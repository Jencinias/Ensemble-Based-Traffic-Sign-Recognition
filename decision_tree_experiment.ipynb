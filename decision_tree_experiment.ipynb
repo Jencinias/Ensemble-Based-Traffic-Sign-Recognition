{
  "nbformat": 4,
  "nbformat_minor": 0,
  "metadata": {
    "colab": {
      "provenance": [],
      "authorship_tag": "ABX9TyMYd2SLBFDxj8WuXFLIZhsW",
      "include_colab_link": true
    },
    "kernelspec": {
      "name": "python3",
      "display_name": "Python 3"
    },
    "language_info": {
      "name": "python"
    }
  },
  "cells": [
    {
      "cell_type": "markdown",
      "metadata": {
        "id": "view-in-github",
        "colab_type": "text"
      },
      "source": [
        "<a href=\"https://colab.research.google.com/github/Jencinias/Ensemble-Based-Traffic-Sign-Recognition/blob/main/decision_tree_experiment.ipynb\" target=\"_parent\"><img src=\"https://colab.research.google.com/assets/colab-badge.svg\" alt=\"Open In Colab\"/></a>"
      ]
    },
    {
      "cell_type": "markdown",
      "source": [
        "# Mount Drive"
      ],
      "metadata": {
        "id": "Zz0NKftZ1YAE"
      }
    },
    {
      "cell_type": "code",
      "source": [
        "from google.colab import drive\n",
        "drive.mount(\"/content/drive\")"
      ],
      "metadata": {
        "colab": {
          "base_uri": "https://localhost:8080/"
        },
        "id": "1HCG_jJlbjMe",
        "outputId": "654f57ed-fd5d-452d-c261-f01a50c5dedd"
      },
      "execution_count": 1,
      "outputs": [
        {
          "output_type": "stream",
          "name": "stdout",
          "text": [
            "Mounted at /content/drive\n"
          ]
        }
      ]
    },
    {
      "cell_type": "markdown",
      "source": [
        "# Import Libraries"
      ],
      "metadata": {
        "id": "fEch27B31cUu"
      }
    },
    {
      "cell_type": "code",
      "source": [
        "import os\n",
        "import cv2\n",
        "import numpy as np\n",
        "import pandas as pd\n",
        "from sklearn.model_selection import ParameterGrid, KFold\n",
        "from sklearn.tree import DecisionTreeClassifier"
      ],
      "metadata": {
        "id": "7dkyJV2wwqqr"
      },
      "execution_count": 2,
      "outputs": []
    },
    {
      "cell_type": "markdown",
      "source": [
        "# Read Data"
      ],
      "metadata": {
        "id": "ByNo9-Jc1gEl"
      }
    },
    {
      "cell_type": "code",
      "source": [
        "#Using Pandas creates a dateframe with the contents of the road_sign.csv\n",
        "df = pd.read_csv(\"/content/drive/MyDrive/transformed_downsampled_folder/transformed_downsampled_df.csv\")\n",
        "\n",
        "#Shows the first 5 rows of the dataframe\n",
        "print(df.head())"
      ],
      "metadata": {
        "colab": {
          "base_uri": "https://localhost:8080/"
        },
        "id": "LVJVj-3MchEe",
        "outputId": "7974d12e-4a51-4c03-b8ab-a1b33649af6e"
      },
      "execution_count": 3,
      "outputs": [
        {
          "output_type": "stream",
          "name": "stdout",
          "text": [
            "      filename  width  height       class  xmin  ymin  xmax  ymax\n",
            "0  road862.png    300     400  speedlimit   285    29   382   101\n",
            "1  road442.png    300     400  speedlimit   121   138   158   165\n",
            "2  road437.png    300     400  speedlimit   220   245   268   280\n",
            "3  road411.png    300     400  speedlimit   158    77   216   119\n",
            "4  road232.png    300     400  speedlimit   169   221   189   234\n"
          ]
        }
      ]
    },
    {
      "cell_type": "markdown",
      "source": [
        "# Read Images"
      ],
      "metadata": {
        "id": "yV5mWbBx1n7_"
      }
    },
    {
      "cell_type": "code",
      "source": [
        "# Function to read images and corresponding data from CSV\n",
        "def read_images_and_labels(folder_path, csv_path):\n",
        "    # Read CSV file\n",
        "    data = pd.read_csv(csv_path)\n",
        "\n",
        "    images = []\n",
        "    labels = []\n",
        "\n",
        "    # Iterate through each row in CSV\n",
        "    for index, row in data.iterrows():\n",
        "        image_name = row[\"filename\"]\n",
        "        image_path = os.path.join(folder_path, image_name)\n",
        "\n",
        "        # Read image\n",
        "        image = cv2.imread(image_path, cv2.IMREAD_GRAYSCALE)\n",
        "        if image is None:\n",
        "            print(f\"Could not read image: {image_path}\")\n",
        "            continue\n",
        "\n",
        "        # Flatten image and add to the list\n",
        "        images.append(image.flatten())\n",
        "\n",
        "        # Add label to the list\n",
        "        labels.append(row['class'])\n",
        "\n",
        "    return np.array(images), np.array(labels)\n",
        "\n",
        "# Example usage\n",
        "folder_path = \"/content/drive/MyDrive/transformed_downsampled_folder/transformed_downsampled_images/\"\n",
        "csv_path = \"/content/drive/MyDrive/transformed_downsampled_folder/transformed_downsampled_df.csv\"\n",
        "\n",
        "images, labels = read_images_and_labels(folder_path, csv_path)\n",
        "\n",
        "print(\"Shape of images array:\", images.shape)\n",
        "print(\"Shape of labels array:\", labels.shape)"
      ],
      "metadata": {
        "colab": {
          "base_uri": "https://localhost:8080/"
        },
        "id": "blJ2-e95dZmQ",
        "outputId": "64323718-f473-4834-ad6d-baa579ce8d70"
      },
      "execution_count": 4,
      "outputs": [
        {
          "output_type": "stream",
          "name": "stdout",
          "text": [
            "Shape of images array: (244, 160000)\n",
            "Shape of labels array: (244,)\n"
          ]
        }
      ]
    },
    {
      "cell_type": "markdown",
      "source": [
        "## First Iteration without Parallelization"
      ],
      "metadata": {
        "id": "v_H9__JSzXDI"
      }
    },
    {
      "cell_type": "code",
      "source": [
        "param_grid = [\n",
        "    {\n",
        "        'criterion': ['gini', 'entropy'],\n",
        "        'splitter': ['best', 'random'],\n",
        "        'max_depth': [None, 5, 10],\n",
        "        'min_samples_split': [2, 5, 10],\n",
        "        'min_samples_leaf': [1, 2, 4],\n",
        "        'max_features': [None, 'sqrt', 'log2']\n",
        "    }\n",
        "]\n",
        "\n",
        "def nested_cv(X, y, inner_cv, outer_cv, Classifier, parameter_grid):\n",
        "    outer_scores = []\n",
        "    # for each split of the data in the outer cross-validation\n",
        "    # (split method returns indices)\n",
        "    for training_samples, test_samples in outer_cv.split(X, y):\n",
        "        # find best parameter using inner cross-validation\n",
        "        best_params = {}\n",
        "        best_score = -np.inf\n",
        "        # iterate over parameters\n",
        "        for parameters in parameter_grid:\n",
        "            # accumulate score over inner splits\n",
        "            cv_scores = []\n",
        "            # iterate over inner cross-validation\n",
        "            for inner_train, inner_test in inner_cv.split(X[training_samples], y[training_samples]):\n",
        "                # build classifier given parameters and training data\n",
        "                clf = Classifier(**parameters)\n",
        "                clf.fit(X[inner_train], y[inner_train])\n",
        "                # evaluate on inner test set\n",
        "                score = clf.score(X[inner_test], y[inner_test])\n",
        "                cv_scores.append(score)\n",
        "            # compute mean score over inner folds\n",
        "            mean_score = np.mean(cv_scores)\n",
        "            if mean_score > best_score:\n",
        "                # if better than so far, remember parameters\n",
        "                best_score = mean_score\n",
        "                best_params = parameters\n",
        "        # build classifier on best parameters using outer training set\n",
        "        clf = Classifier(**best_params)\n",
        "        clf.fit(X[training_samples], y[training_samples])\n",
        "        # evaluate\n",
        "        outer_scores.append(clf.score(X[test_samples], y[test_samples]))\n",
        "    return np.array(outer_scores)\n",
        "\n",
        "scores = nested_cv(\n",
        "    images,\n",
        "    labels,\n",
        "    KFold(5),\n",
        "    KFold(5),\n",
        "    DecisionTreeClassifier,\n",
        "    ParameterGrid(param_grid)\n",
        ")\n",
        "\n",
        "print(\"Cross-validation scores: {}\".format(scores))"
      ],
      "metadata": {
        "id": "NAcw5ccIkfKa"
      },
      "execution_count": null,
      "outputs": []
    },
    {
      "cell_type": "markdown",
      "source": [
        "## Second Iteration with Parallelization\n"
      ],
      "metadata": {
        "id": "WUDxjJ9fzMk8"
      }
    },
    {
      "cell_type": "code",
      "source": [
        "param_grid = {\n",
        "    'criterion': ['gini', 'entropy'],\n",
        "    'splitter': ['best', 'random'],\n",
        "    'max_depth': [None, 5, 10],\n",
        "    'min_samples_split': [2, 5, 10],\n",
        "    'min_samples_leaf': [1, 2, 4],\n",
        "    'max_features': [None, 'sqrt', 'log2']\n",
        "}\n",
        "\n",
        "outer_cv = KFold(5)\n",
        "inner_cv = KFold(5)\n",
        "\n",
        "def nested_cv(X, y, inner_cv, outer_cv, param_grid):\n",
        "    outer_scores = []\n",
        "    for train_index, test_index in outer_cv.split(X, y):\n",
        "        X_train, X_test = X[train_index], X[test_index]\n",
        "        y_train, y_test = y[train_index], y[test_index]\n",
        "\n",
        "        clf = GridSearchCV(\n",
        "            estimator=DecisionTreeClassifier(),\n",
        "            param_grid=param_grid,\n",
        "            cv=inner_cv,\n",
        "            n_jobs=-1  # Parallelize grid search\n",
        "        )\n",
        "        clf.fit(X_train, y_train)\n",
        "        outer_scores.append(clf.score(X_test, y_test))\n",
        "    return outer_scores\n",
        "\n",
        "scores = nested_cv(images, labels, inner_cv, outer_cv, param_grid)\n",
        "print(\"Cross-Validation Scores: {}\".format(scores))\n",
        "print(\"Average Cross-Validation Score: {}\".format(np.mean(scores)))"
      ],
      "metadata": {
        "id": "uVKM9k4WoNwX"
      },
      "execution_count": 1,
      "outputs": []
    }
  ]
}